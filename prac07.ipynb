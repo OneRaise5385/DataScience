{
 "cells": [
  {
   "cell_type": "markdown",
   "metadata": {},
   "source": [
    "# 7.Working with Relation Using SQL"
   ]
  },
  {
   "cell_type": "code",
   "execution_count": 1,
   "metadata": {},
   "outputs": [],
   "source": [
    "# SQLite3教程参考：https://www.runoob.com/sqlite/sqlite-python.html\n",
    "import pandas as pd\n",
    "import sqlite3"
   ]
  },
  {
   "cell_type": "code",
   "execution_count": 2,
   "metadata": {},
   "outputs": [],
   "source": [
    "# 连接数据库\n",
    "babyname = sqlite3.connect('data/babyname.db')"
   ]
  },
  {
   "cell_type": "code",
   "execution_count": 17,
   "metadata": {},
   "outputs": [
    {
     "ename": "OperationalError",
     "evalue": "table COMPANY already exists",
     "output_type": "error",
     "traceback": [
      "\u001b[1;31m---------------------------------------------------------------------------\u001b[0m",
      "\u001b[1;31mOperationalError\u001b[0m                          Traceback (most recent call last)",
      "\u001b[1;32mc:\\Users\\OneRaise\\Desktop\\DataScience\\prac07.ipynb Cell 4\u001b[0m line \u001b[0;36m<module>\u001b[1;34m\u001b[0m\n\u001b[0;32m      <a href='vscode-notebook-cell:/c%3A/Users/OneRaise/Desktop/DataScience/prac07.ipynb#W3sZmlsZQ%3D%3D?line=0'>1</a>\u001b[0m \u001b[39m# 创建表\u001b[39;00m\n\u001b[0;32m      <a href='vscode-notebook-cell:/c%3A/Users/OneRaise/Desktop/DataScience/prac07.ipynb#W3sZmlsZQ%3D%3D?line=1'>2</a>\u001b[0m company \u001b[39m=\u001b[39m babyname\u001b[39m.\u001b[39mcursor()\n\u001b[1;32m----> <a href='vscode-notebook-cell:/c%3A/Users/OneRaise/Desktop/DataScience/prac07.ipynb#W3sZmlsZQ%3D%3D?line=2'>3</a>\u001b[0m company\u001b[39m.\u001b[39;49mexecute(\u001b[39m'''\u001b[39;49m\u001b[39mCREATE TABLE COMPANY\u001b[39;49m\n\u001b[0;32m      <a href='vscode-notebook-cell:/c%3A/Users/OneRaise/Desktop/DataScience/prac07.ipynb#W3sZmlsZQ%3D%3D?line=3'>4</a>\u001b[0m \u001b[39m       (ID INT PRIMARY KEY     NOT NULL,\u001b[39;49m\n\u001b[0;32m      <a href='vscode-notebook-cell:/c%3A/Users/OneRaise/Desktop/DataScience/prac07.ipynb#W3sZmlsZQ%3D%3D?line=4'>5</a>\u001b[0m \u001b[39m       NAME           TEXT    NOT NULL,\u001b[39;49m\n\u001b[0;32m      <a href='vscode-notebook-cell:/c%3A/Users/OneRaise/Desktop/DataScience/prac07.ipynb#W3sZmlsZQ%3D%3D?line=5'>6</a>\u001b[0m \u001b[39m       AGE            INT     NOT NULL,\u001b[39;49m\n\u001b[0;32m      <a href='vscode-notebook-cell:/c%3A/Users/OneRaise/Desktop/DataScience/prac07.ipynb#W3sZmlsZQ%3D%3D?line=6'>7</a>\u001b[0m \u001b[39m       ADDRESS        CHAR(50),\u001b[39;49m\n\u001b[0;32m      <a href='vscode-notebook-cell:/c%3A/Users/OneRaise/Desktop/DataScience/prac07.ipynb#W3sZmlsZQ%3D%3D?line=7'>8</a>\u001b[0m \u001b[39m       SALARY         REAL);\u001b[39;49m\u001b[39m'''\u001b[39;49m)\n\u001b[0;32m      <a href='vscode-notebook-cell:/c%3A/Users/OneRaise/Desktop/DataScience/prac07.ipynb#W3sZmlsZQ%3D%3D?line=8'>9</a>\u001b[0m babyname\u001b[39m.\u001b[39mcommit()\n",
      "\u001b[1;31mOperationalError\u001b[0m: table COMPANY already exists"
     ]
    }
   ],
   "source": [
    "# 创建表\n",
    "company = babyname.cursor()\n",
    "company.execute('''CREATE TABLE COMPANY\n",
    "       (ID INT PRIMARY KEY     NOT NULL,\n",
    "       NAME           TEXT    NOT NULL,\n",
    "       AGE            INT     NOT NULL,\n",
    "       ADDRESS        CHAR(50),\n",
    "       SALARY         REAL);''')\n",
    "babyname.commit()"
   ]
  },
  {
   "cell_type": "code",
   "execution_count": 22,
   "metadata": {},
   "outputs": [
    {
     "ename": "IntegrityError",
     "evalue": "UNIQUE constraint failed: COMPANY.ID",
     "output_type": "error",
     "traceback": [
      "\u001b[1;31m---------------------------------------------------------------------------\u001b[0m",
      "\u001b[1;31mIntegrityError\u001b[0m                            Traceback (most recent call last)",
      "\u001b[1;32mc:\\Users\\OneRaise\\Desktop\\DataScience\\prac07.ipynb Cell 5\u001b[0m line \u001b[0;36m<module>\u001b[1;34m\u001b[0m\n\u001b[0;32m      <a href='vscode-notebook-cell:/c%3A/Users/OneRaise/Desktop/DataScience/prac07.ipynb#W4sZmlsZQ%3D%3D?line=0'>1</a>\u001b[0m \u001b[39m# INSERT操作\u001b[39;00m\n\u001b[0;32m      <a href='vscode-notebook-cell:/c%3A/Users/OneRaise/Desktop/DataScience/prac07.ipynb#W4sZmlsZQ%3D%3D?line=1'>2</a>\u001b[0m company \u001b[39m=\u001b[39m babyname\u001b[39m.\u001b[39mcursor()\n\u001b[1;32m----> <a href='vscode-notebook-cell:/c%3A/Users/OneRaise/Desktop/DataScience/prac07.ipynb#W4sZmlsZQ%3D%3D?line=2'>3</a>\u001b[0m company\u001b[39m.\u001b[39;49mexecute(\u001b[39m\"\u001b[39;49m\u001b[39mINSERT INTO COMPANY (ID,NAME,AGE,ADDRESS,SALARY) \u001b[39;49m\u001b[39m\\\u001b[39;49;00m\n\u001b[0;32m      <a href='vscode-notebook-cell:/c%3A/Users/OneRaise/Desktop/DataScience/prac07.ipynb#W4sZmlsZQ%3D%3D?line=3'>4</a>\u001b[0m \u001b[39m      VALUES (1, \u001b[39;49m\u001b[39m'\u001b[39;49m\u001b[39mPaul\u001b[39;49m\u001b[39m'\u001b[39;49m\u001b[39m, 32, \u001b[39;49m\u001b[39m'\u001b[39;49m\u001b[39mCalifornia\u001b[39;49m\u001b[39m'\u001b[39;49m\u001b[39m, 20000.00 )\u001b[39;49m\u001b[39m\"\u001b[39;49m)\n\u001b[0;32m      <a href='vscode-notebook-cell:/c%3A/Users/OneRaise/Desktop/DataScience/prac07.ipynb#W4sZmlsZQ%3D%3D?line=5'>6</a>\u001b[0m company\u001b[39m.\u001b[39mexecute(\u001b[39m\"\u001b[39m\u001b[39mINSERT INTO COMPANY (ID,NAME,AGE,ADDRESS,SALARY) \u001b[39m\u001b[39m\\\u001b[39;00m\n\u001b[0;32m      <a href='vscode-notebook-cell:/c%3A/Users/OneRaise/Desktop/DataScience/prac07.ipynb#W4sZmlsZQ%3D%3D?line=6'>7</a>\u001b[0m \u001b[39m      VALUES (2, \u001b[39m\u001b[39m'\u001b[39m\u001b[39mAllen\u001b[39m\u001b[39m'\u001b[39m\u001b[39m, 25, \u001b[39m\u001b[39m'\u001b[39m\u001b[39mTexas\u001b[39m\u001b[39m'\u001b[39m\u001b[39m, 15000.00 )\u001b[39m\u001b[39m\"\u001b[39m)\n\u001b[0;32m      <a href='vscode-notebook-cell:/c%3A/Users/OneRaise/Desktop/DataScience/prac07.ipynb#W4sZmlsZQ%3D%3D?line=8'>9</a>\u001b[0m company\u001b[39m.\u001b[39mexecute(\u001b[39m\"\u001b[39m\u001b[39mINSERT INTO COMPANY (ID,NAME,AGE,ADDRESS,SALARY) \u001b[39m\u001b[39m\\\u001b[39;00m\n\u001b[0;32m     <a href='vscode-notebook-cell:/c%3A/Users/OneRaise/Desktop/DataScience/prac07.ipynb#W4sZmlsZQ%3D%3D?line=9'>10</a>\u001b[0m \u001b[39m      VALUES (3, \u001b[39m\u001b[39m'\u001b[39m\u001b[39mTeddy\u001b[39m\u001b[39m'\u001b[39m\u001b[39m, 23, \u001b[39m\u001b[39m'\u001b[39m\u001b[39mNorway\u001b[39m\u001b[39m'\u001b[39m\u001b[39m, 20000.00 )\u001b[39m\u001b[39m\"\u001b[39m)\n",
      "\u001b[1;31mIntegrityError\u001b[0m: UNIQUE constraint failed: COMPANY.ID"
     ]
    }
   ],
   "source": [
    "# INSERT操作\n",
    "company = babyname.cursor()\n",
    "company.execute(\"INSERT INTO COMPANY (ID,NAME,AGE,ADDRESS,SALARY) \\\n",
    "      VALUES (1, 'Paul', 32, 'California', 20000.00 )\")\n",
    "\n",
    "company.execute(\"INSERT INTO COMPANY (ID,NAME,AGE,ADDRESS,SALARY) \\\n",
    "      VALUES (2, 'Allen', 25, 'Texas', 15000.00 )\")\n",
    "\n",
    "company.execute(\"INSERT INTO COMPANY (ID,NAME,AGE,ADDRESS,SALARY) \\\n",
    "      VALUES (3, 'Teddy', 23, 'Norway', 20000.00 )\")\n",
    "\n",
    "company.execute(\"INSERT INTO COMPANY (ID,NAME,AGE,ADDRESS,SALARY) \\\n",
    "      VALUES (4, 'Mark', 25, 'Rich-Mond ', 65000.00 )\")\n",
    "babyname.commit()"
   ]
  },
  {
   "cell_type": "code",
   "execution_count": 3,
   "metadata": {},
   "outputs": [],
   "source": [
    "# SELECT操作\n",
    "company = babyname.cursor()\n",
    "cursor = company.execute(\"SELECT id, name, address, salary FROM COMPANY\")"
   ]
  },
  {
   "cell_type": "code",
   "execution_count": 4,
   "metadata": {},
   "outputs": [],
   "source": [
    "# UPDATE操作\n",
    "company.execute(\"UPDATE COMPANY set SALARY = 2500 where ID=1\")\n",
    "babyname.commit()"
   ]
  },
  {
   "cell_type": "code",
   "execution_count": 5,
   "metadata": {},
   "outputs": [],
   "source": [
    "# DELETE操作\n",
    "company.execute(\"DELETE from COMPANY where ID=2;\")\n",
    "babyname.commit()"
   ]
  },
  {
   "cell_type": "code",
   "execution_count": 6,
   "metadata": {},
   "outputs": [],
   "source": [
    "babyname.close()"
   ]
  },
  {
   "cell_type": "code",
   "execution_count": 11,
   "metadata": {},
   "outputs": [
    {
     "ename": "OperationalError",
     "evalue": "table babynames already exists",
     "output_type": "error",
     "traceback": [
      "\u001b[1;31m---------------------------------------------------------------------------\u001b[0m",
      "\u001b[1;31mOperationalError\u001b[0m                          Traceback (most recent call last)",
      "\u001b[1;32mc:\\Users\\OneRaise\\Desktop\\DataScience\\prac07.ipynb Cell 10\u001b[0m line \u001b[0;36m<module>\u001b[1;34m\u001b[0m\n\u001b[0;32m      <a href='vscode-notebook-cell:/c%3A/Users/OneRaise/Desktop/DataScience/prac07.ipynb#X12sZmlsZQ%3D%3D?line=1'>2</a>\u001b[0m babyname \u001b[39m=\u001b[39m sqlite3\u001b[39m.\u001b[39mconnect(\u001b[39m'\u001b[39m\u001b[39mdata/babyname.db\u001b[39m\u001b[39m'\u001b[39m)\n\u001b[0;32m      <a href='vscode-notebook-cell:/c%3A/Users/OneRaise/Desktop/DataScience/prac07.ipynb#X12sZmlsZQ%3D%3D?line=2'>3</a>\u001b[0m babynames \u001b[39m=\u001b[39m babyname\u001b[39m.\u001b[39mcursor()\n\u001b[1;32m----> <a href='vscode-notebook-cell:/c%3A/Users/OneRaise/Desktop/DataScience/prac07.ipynb#X12sZmlsZQ%3D%3D?line=3'>4</a>\u001b[0m babynames\u001b[39m.\u001b[39;49mexecute(\u001b[39m'''\u001b[39;49m\u001b[39mCREATE TABLE babynames\u001b[39;49m\n\u001b[0;32m      <a href='vscode-notebook-cell:/c%3A/Users/OneRaise/Desktop/DataScience/prac07.ipynb#X12sZmlsZQ%3D%3D?line=4'>5</a>\u001b[0m \u001b[39m       (Name          TEXT,\u001b[39;49m\n\u001b[0;32m      <a href='vscode-notebook-cell:/c%3A/Users/OneRaise/Desktop/DataScience/prac07.ipynb#X12sZmlsZQ%3D%3D?line=5'>6</a>\u001b[0m \u001b[39m       Sex            TEXT,\u001b[39;49m\n\u001b[0;32m      <a href='vscode-notebook-cell:/c%3A/Users/OneRaise/Desktop/DataScience/prac07.ipynb#X12sZmlsZQ%3D%3D?line=6'>7</a>\u001b[0m \u001b[39m       Count          INT,\u001b[39;49m\n\u001b[0;32m      <a href='vscode-notebook-cell:/c%3A/Users/OneRaise/Desktop/DataScience/prac07.ipynb#X12sZmlsZQ%3D%3D?line=7'>8</a>\u001b[0m \u001b[39m       Year           INT);\u001b[39;49m\u001b[39m'''\u001b[39;49m)\n",
      "\u001b[1;31mOperationalError\u001b[0m: table babynames already exists"
     ]
    }
   ],
   "source": [
    "# 使用pandas操作数据库\n",
    "babyname = sqlite3.connect('data/babyname.db')\n",
    "babynames = babyname.cursor()\n",
    "babynames.execute('''CREATE TABLE babynames\n",
    "       (Name          TEXT,\n",
    "       Sex            TEXT,\n",
    "       Count          INT,\n",
    "       Year           INT);''')"
   ]
  },
  {
   "cell_type": "code",
   "execution_count": null,
   "metadata": {},
   "outputs": [],
   "source": [
    "# 删除表\n",
    "# babynames.execute('''DROP TABLE babynames''')"
   ]
  },
  {
   "cell_type": "code",
   "execution_count": 9,
   "metadata": {},
   "outputs": [],
   "source": [
    "# 向数据库中导入csv文件\n",
    "# 读取csv文件并将其转换为列表格式\n",
    "babynames20102022 = pd.read_csv('data/babynames20102022.csv')\n",
    "values = babynames20102022.values.tolist()\n",
    "\n",
    "# babyname.executemany(\"INSERT INTO babynames VALUES('%s','%s','%s','%s','%s')\", values)"
   ]
  },
  {
   "cell_type": "code",
   "execution_count": 10,
   "metadata": {},
   "outputs": [
    {
     "ename": "OperationalError",
     "evalue": "near \"<\": syntax error",
     "output_type": "error",
     "traceback": [
      "\u001b[1;31m---------------------------------------------------------------------------\u001b[0m",
      "\u001b[1;31mOperationalError\u001b[0m                          Traceback (most recent call last)",
      "\u001b[1;32mc:\\Users\\OneRaise\\Desktop\\DataScience\\prac07.ipynb Cell 13\u001b[0m line \u001b[0;36m<module>\u001b[1;34m\u001b[0m\n\u001b[0;32m      <a href='vscode-notebook-cell:/c%3A/Users/OneRaise/Desktop/DataScience/prac07.ipynb#X15sZmlsZQ%3D%3D?line=0'>1</a>\u001b[0m s \u001b[39m=\u001b[39m \u001b[39m'\u001b[39m\u001b[39m,\u001b[39m\u001b[39m'\u001b[39m\u001b[39m.\u001b[39mjoin([\u001b[39m'\u001b[39m\u001b[39m%s\u001b[39;00m\u001b[39m'\u001b[39m \u001b[39mfor\u001b[39;00m _ \u001b[39min\u001b[39;00m \u001b[39mrange\u001b[39m(\u001b[39mlen\u001b[39m(babynames20102022\u001b[39m.\u001b[39mcolumns))])\n\u001b[0;32m      <a href='vscode-notebook-cell:/c%3A/Users/OneRaise/Desktop/DataScience/prac07.ipynb#X15sZmlsZQ%3D%3D?line=1'>2</a>\u001b[0m \u001b[39m# executemany批量操作 插入数据 批量操作比逐个操作速度快很多\u001b[39;00m\n\u001b[1;32m----> <a href='vscode-notebook-cell:/c%3A/Users/OneRaise/Desktop/DataScience/prac07.ipynb#X15sZmlsZQ%3D%3D?line=2'>3</a>\u001b[0m babynames\u001b[39m.\u001b[39;49mexecutemany(\u001b[39m'\u001b[39;49m\u001b[39mINSERT INTO \u001b[39;49m\u001b[39m{}\u001b[39;49;00m\u001b[39m VALUES (\u001b[39;49m\u001b[39m{}\u001b[39;49;00m\u001b[39m)\u001b[39;49m\u001b[39m'\u001b[39;49m\u001b[39m.\u001b[39;49mformat(babynames,s), values)\n",
      "\u001b[1;31mOperationalError\u001b[0m: near \"<\": syntax error"
     ]
    }
   ],
   "source": [
    "s = ','.join(['%s' for _ in range(len(babynames20102022.columns))])\n",
    "# executemany批量操作 插入数据 批量操作比逐个操作速度快很多\n",
    "babynames.executemany('INSERT INTO {} VALUES ({})'.format(babynames,s), values)\n"
   ]
  }
 ],
 "metadata": {
  "kernelspec": {
   "display_name": "Python 3",
   "language": "python",
   "name": "python3"
  },
  "language_info": {
   "codemirror_mode": {
    "name": "ipython",
    "version": 3
   },
   "file_extension": ".py",
   "mimetype": "text/x-python",
   "name": "python",
   "nbconvert_exporter": "python",
   "pygments_lexer": "ipython3",
   "version": "3.10.1"
  },
  "orig_nbformat": 4
 },
 "nbformat": 4,
 "nbformat_minor": 2
}
